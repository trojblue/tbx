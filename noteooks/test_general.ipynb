{
 "cells": [
  {
   "cell_type": "code",
   "execution_count": 1,
   "metadata": {},
   "outputs": [],
   "source": [
    "import unibox as ub"
   ]
  },
  {
   "cell_type": "code",
   "execution_count": 4,
   "metadata": {},
   "outputs": [
    {
     "data": {
      "application/vnd.jupyter.widget-view+json": {
       "model_id": "2bcb6492a137496ea24c2e928dabd49b",
       "version_major": 2,
       "version_minor": 0
      },
      "text/plain": [
       "Loading batches:   0%|          | 0/3 [00:00<?, ?it/s]"
      ]
     },
     "metadata": {},
     "output_type": "display_data"
    },
    {
     "name": "stderr",
     "output_type": "stream",
     "text": [
      "2024-07-18 07:16:36,547 [INFO] UniLogger: UniLoader.loads: .parquet LOADED from \"/tmp/tmpbh_o0fl5/2.todo.parquet\" in 0.04s\n",
      "2024-07-18 07:16:36,551 [INFO] UniLogger: UniLoader.loads: .parquet LOADED from \"/tmp/tmpmd82jtem/0.todo.parquet\" in 0.05s\n",
      "2024-07-18 07:16:36,614 [INFO] UniLogger: UniLoader.loads: .parquet LOADED from \"/tmp/tmpslqwivjr/1.todo.parquet\" in 0.05s\n"
     ]
    },
    {
     "name": "stdout",
     "output_type": "stream",
     "text": [
      "(150000, 5)\n",
      "Index(['filename', 's3_uri', 'pid', 'metadata_s3_uri', 'image_s3_size'], dtype='object')\n"
     ]
    },
    {
     "data": {
      "text/html": [
       "<div>\n",
       "<style scoped>\n",
       "    .dataframe tbody tr th:only-of-type {\n",
       "        vertical-align: middle;\n",
       "    }\n",
       "\n",
       "    .dataframe tbody tr th {\n",
       "        vertical-align: top;\n",
       "    }\n",
       "\n",
       "    .dataframe thead th {\n",
       "        text-align: right;\n",
       "    }\n",
       "</style>\n",
       "<table border=\"1\" class=\"dataframe\">\n",
       "  <thead>\n",
       "    <tr style=\"text-align: right;\">\n",
       "      <th></th>\n",
       "      <th>filename</th>\n",
       "      <th>s3_uri</th>\n",
       "      <th>pid</th>\n",
       "      <th>metadata_s3_uri</th>\n",
       "      <th>image_s3_size</th>\n",
       "    </tr>\n",
       "  </thead>\n",
       "  <tbody>\n",
       "    <tr>\n",
       "      <th>0</th>\n",
       "      <td>86114542_p0.png</td>\n",
       "      <td>s3://dataset-pixiv/artworks/86114542/86114542_...</td>\n",
       "      <td>86114542</td>\n",
       "      <td>s3://dataset-pixiv/artworks/86114542/metadata....</td>\n",
       "      <td>310612</td>\n",
       "    </tr>\n",
       "    <tr>\n",
       "      <th>1</th>\n",
       "      <td>86114543_p0.jpg</td>\n",
       "      <td>s3://dataset-pixiv/artworks/86114543/86114543_...</td>\n",
       "      <td>86114543</td>\n",
       "      <td>s3://dataset-pixiv/artworks/86114543/metadata....</td>\n",
       "      <td>6745018</td>\n",
       "    </tr>\n",
       "    <tr>\n",
       "      <th>2</th>\n",
       "      <td>86114544_p0.jpg</td>\n",
       "      <td>s3://dataset-pixiv/artworks/86114544/86114544_...</td>\n",
       "      <td>86114544</td>\n",
       "      <td>s3://dataset-pixiv/artworks/86114544/metadata....</td>\n",
       "      <td>3538392</td>\n",
       "    </tr>\n",
       "  </tbody>\n",
       "</table>\n",
       "</div>"
      ],
      "text/plain": [
       "          filename                                             s3_uri  \\\n",
       "0  86114542_p0.png  s3://dataset-pixiv/artworks/86114542/86114542_...   \n",
       "1  86114543_p0.jpg  s3://dataset-pixiv/artworks/86114543/86114543_...   \n",
       "2  86114544_p0.jpg  s3://dataset-pixiv/artworks/86114544/86114544_...   \n",
       "\n",
       "        pid                                    metadata_s3_uri  image_s3_size  \n",
       "0  86114542  s3://dataset-pixiv/artworks/86114542/metadata....         310612  \n",
       "1  86114543  s3://dataset-pixiv/artworks/86114543/metadata....        6745018  \n",
       "2  86114544  s3://dataset-pixiv/artworks/86114544/metadata....        3538392  "
      ]
     },
     "metadata": {},
     "output_type": "display_data"
    }
   ],
   "source": [
    "import pandas as pd\n",
    "\n",
    "uris = [\"s3://dataset-pixiv/sagemaker/20240228_half_pixiv_optmize_workflow/0.todo.parquet\",\n",
    "        \"s3://dataset-pixiv/sagemaker/20240228_half_pixiv_optmize_workflow/1.todo.parquet\",\n",
    "        \"s3://dataset-pixiv/sagemaker/20240228_half_pixiv_optmize_workflow/2.todo.parquet\",]\n",
    "\n",
    "result_df = pd.concat(ub.concurrent_loads(uris))\n",
    "ub.peeks(result_df)"
   ]
  },
  {
   "cell_type": "code",
   "execution_count": 2,
   "metadata": {},
   "outputs": [
    {
     "data": {
      "application/vnd.jupyter.widget-view+json": {
       "model_id": "d8819d90d59b47a8851273ebd5124422",
       "version_major": 2,
       "version_minor": 0
      },
      "text/plain": [
       "Traversing S3: 0page [00:00, ?page/s]"
      ]
     },
     "metadata": {},
     "output_type": "display_data"
    },
    {
     "data": {
      "text/plain": [
       "['s3://unidataset-danbooru/sagemaker/20240311_fulldan_sagemaker_streamlined/0.todo.parquet',\n",
       " 's3://unidataset-danbooru/sagemaker/20240311_fulldan_sagemaker_streamlined/1.todo.parquet',\n",
       " 's3://unidataset-danbooru/sagemaker/20240311_fulldan_sagemaker_streamlined/10.todo.parquet',\n",
       " 's3://unidataset-danbooru/sagemaker/20240311_fulldan_sagemaker_streamlined/100.todo.parquet',\n",
       " 's3://unidataset-danbooru/sagemaker/20240311_fulldan_sagemaker_streamlined/101.todo.parquet']"
      ]
     },
     "execution_count": 2,
     "metadata": {},
     "output_type": "execute_result"
    }
   ],
   "source": [
    "files = ub.traverses(\"s3://unidataset-danbooru/sagemaker/20240311_fulldan_sagemaker_streamlined/\", include_extensions=[\".todo.parquet\"])\n",
    "files[:5]"
   ]
  },
  {
   "cell_type": "code",
   "execution_count": 2,
   "metadata": {},
   "outputs": [
    {
     "name": "stderr",
     "output_type": "stream",
     "text": [
      "2024-06-13 08:02:25,062 [INFO] UniLogger: UniLoader.loads: .jpg LOADED from \"/tmp/tmpe133vzrb.jpg\" in 0.00s\n"
     ]
    },
    {
     "data": {
      "image/jpeg": "[encoded data removed]",
      "image/png": "[encoded data removed]",
      "text/plain": [
       "<PIL.JpegImagePlugin.JpegImageFile image mode=RGB size=127x180>"
      ]
     },
     "metadata": {},
     "output_type": "display_data"
    }
   ],
   "source": [
    "# https://danbooru.donmai.us/posts/7707928.json\n",
    "img = ub.loads(\"https://cdn.donmai.us/180x180/8e/ea/8eea944690c0c0b27e303420cb1e65bd.jpg\")\n",
    "display(img)"
   ]
  },
  {
   "cell_type": "code",
   "execution_count": 4,
   "metadata": {},
   "outputs": [
    {
     "name": "stderr",
     "output_type": "stream",
     "text": [
      "2024-06-13 08:02:27,585 [ERROR] UniLogger: UniSaver.saves: ❌ JpegImageFile save ERROR at \"something.png\": 'JpegImageFile'\n",
      "2024-06-13 08:02:27,585 [INFO] UniLogger: UniSaver.saves: JpegImageFile saved successfully to \"s3://unidataset-danbooru/something.png\"\n"
     ]
    }
   ],
   "source": [
    "# test: save to s3 directly\n",
    "ub.saves(img, \"s3://unidataset-danbooru/something.png\")"
   ]
  },
  {
   "cell_type": "markdown",
   "metadata": {},
   "source": [
    "test jsonl save:"
   ]
  },
  {
   "cell_type": "code",
   "execution_count": 2,
   "metadata": {},
   "outputs": [
    {
     "name": "stderr",
     "output_type": "stream",
     "text": [
      "2024-06-28 13:10:37,710 [INFO] UniLogger: UniSaver.saves: list saved successfully to \"sample.jsonl\"\n"
     ]
    }
   ],
   "source": [
    "jsonl_sample = [\n",
    "    {\"id\": 1, \"name\": \"Alice\"},\n",
    "    {\"id\": 2, \"name\": \"Bob\"},\n",
    "    {\"id\": 3, \"name\": \"Charlie\"},\n",
    "]\n",
    "\n",
    "ub.saves(jsonl_sample, \"sample.jsonl\")"
   ]
  },
  {
   "cell_type": "code",
   "execution_count": 3,
   "metadata": {},
   "outputs": [
    {
     "name": "stderr",
     "output_type": "stream",
     "text": [
      "2024-06-28 13:10:53,285 [INFO] UniLogger: UniLoader.loads: .jsonl LOADED from \"sample.jsonl\" in 0.00s\n"
     ]
    }
   ],
   "source": [
    "jsonl_sample_read = ub.loads(\"sample.jsonl\")"
   ]
  },
  {
   "cell_type": "code",
   "execution_count": 4,
   "metadata": {},
   "outputs": [
    {
     "data": {
      "text/plain": [
       "[{'id': 1, 'name': 'Alice'},\n",
       " {'id': 2, 'name': 'Bob'},\n",
       " {'id': 3, 'name': 'Charlie'}]"
      ]
     },
     "execution_count": 4,
     "metadata": {},
     "output_type": "execute_result"
    }
   ],
   "source": [
    "jsonl_sample_read"
   ]
  },
  {
   "cell_type": "markdown",
   "metadata": {},
   "source": [
    "test jsonl save & read 2:"
   ]
  },
  {
   "cell_type": "code",
   "execution_count": 2,
   "metadata": {},
   "outputs": [
    {
     "name": "stderr",
     "output_type": "stream",
     "text": [
      "2024-06-28 14:12:00,273 [ERROR] UniLogger: UniLoader._load_jsonl: ❌ JSON decode error on line 4: invalid escaped character in string: line 1 column 23 (char 22)\n",
      "Content: {\"id\": 3, \"name\": \"Ch\\x96arlie\"}\n",
      "\n",
      "2024-06-28 14:12:00,274 [WARNING] UniLogger: UniLoader._load_jsonl: ⚠️ NaN found and replaced with null on line 5\n",
      "2024-06-28 14:12:00,275 [INFO] UniLogger: UniLoader.loads: .jsonl LOADED from \"test_jsonl_fail.jsonl\" in 0.00s\n"
     ]
    },
    {
     "data": {
      "text/plain": [
       "[{'note': 'testing for handling lines containing non-utf-8 character (id3), and NaN value (id4)'},\n",
       " {'id': 1, 'name': 'Alice'},\n",
       " {'id': 2, 'name': 'Bob'},\n",
       " {'id': 4, 'name': None},\n",
       " {'id': 5, 'name': 'Eve'}]"
      ]
     },
     "execution_count": 2,
     "metadata": {},
     "output_type": "execute_result"
    }
   ],
   "source": [
    "jsonl3_read = ub.loads(\"test_jsonl_fail.jsonl\")\n",
    "jsonl3_read"
   ]
  },
  {
   "cell_type": "markdown",
   "metadata": {},
   "source": [
    "test saving invalid values (NaN) to a jsonl file:"
   ]
  },
  {
   "cell_type": "code",
   "execution_count": 3,
   "metadata": {},
   "outputs": [
    {
     "name": "stderr",
     "output_type": "stream",
     "text": [
      "2024-06-28 14:12:04,549 [INFO] UniLogger: UniSaver.saves: list saved successfully to \"test_invalid_values.jsonl\"\n"
     ]
    }
   ],
   "source": [
    "test_list = [\n",
    "    {\"id\": 1, \"name\": \"Alice\"},\n",
    "    {\"id\": 2, \"name\": \"Bob\"},\n",
    "    {\"id\": 3, \"name\": None},  # Contains a None value\n",
    "    {\"id\": 4, \"name\": float('nan')},  # Contains a NaN value\n",
    "    {\"id\": 5, \"name\": \"Eve\"}\n",
    "]\n",
    "\n",
    "ub.saves(test_list, \"test_invalid_values.jsonl\") # shouldn't contain \"NaN\" in the output file"
   ]
  },
  {
   "cell_type": "code",
   "execution_count": 4,
   "metadata": {},
   "outputs": [
    {
     "name": "stderr",
     "output_type": "stream",
     "text": [
      "2024-06-28 14:12:49,608 [INFO] UniLogger: UniSaver.saves: dict saved successfully to \"test_invalid_values.json\"\n"
     ]
    }
   ],
   "source": [
    "test_dict = {\n",
    "    \"id\": 1,\n",
    "    \"name\": \"Alice\",\n",
    "    \"age\": None,  # Contains a None value\n",
    "    \"height\": float('nan'),  # Contains\n",
    "}\n",
    "\n",
    "ub.saves(test_dict, \"test_invalid_values.json\") # shouldn't contain \"NaN\" in the output file"
   ]
  },
  {
   "cell_type": "code",
   "execution_count": 6,
   "metadata": {},
   "outputs": [
    {
     "name": "stderr",
     "output_type": "stream",
     "text": [
      "2024-06-28 14:16:02,632 [INFO] UniLogger: UniSaver.saves: list saved successfully to \"test_invalid_values2.jsonl\"\n"
     ]
    }
   ],
   "source": [
    "import numpy as np\n",
    "\n",
    "test_dict = [{\n",
    "    \"id\": 1,\n",
    "    \"name\": \"Alice\",\n",
    "    \"age\": None,  # Contains a None value\n",
    "    \"height\": float('nan'), \n",
    "    \"weight\": np.nan, \n",
    "}]\n",
    "\n",
    "ub.saves(test_dict, \"test_invalid_values2.jsonl\") # shouldn't contain \"NaN\" in the output file"
   ]
  }
 ],
 "metadata": {
  "kernelspec": {
   "display_name": "base",
   "language": "python",
   "name": "python3"
  },
  "language_info": {
   "codemirror_mode": {
    "name": "ipython",
    "version": 3
   },
   "file_extension": ".py",
   "mimetype": "text/x-python",
   "name": "python",
   "nbconvert_exporter": "python",
   "pygments_lexer": "ipython3",
   "version": "3.10.13"
  }
 },
 "nbformat": 4,
 "nbformat_minor": 2
}
