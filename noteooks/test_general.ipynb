{
 "cells": [
  {
   "cell_type": "code",
   "execution_count": 1,
   "metadata": {},
   "outputs": [],
   "source": [
    "import unibox as ub"
   ]
  },
  {
   "cell_type": "code",
   "execution_count": 2,
   "metadata": {},
   "outputs": [
    {
     "data": {
      "application/vnd.jupyter.widget-view+json": {
       "model_id": "d8819d90d59b47a8851273ebd5124422",
       "version_major": 2,
       "version_minor": 0
      },
      "text/plain": [
       "Traversing S3: 0page [00:00, ?page/s]"
      ]
     },
     "metadata": {},
     "output_type": "display_data"
    },
    {
     "data": {
      "text/plain": [
       "['s3://unidataset-danbooru/sagemaker/20240311_fulldan_sagemaker_streamlined/0.todo.parquet',\n",
       " 's3://unidataset-danbooru/sagemaker/20240311_fulldan_sagemaker_streamlined/1.todo.parquet',\n",
       " 's3://unidataset-danbooru/sagemaker/20240311_fulldan_sagemaker_streamlined/10.todo.parquet',\n",
       " 's3://unidataset-danbooru/sagemaker/20240311_fulldan_sagemaker_streamlined/100.todo.parquet',\n",
       " 's3://unidataset-danbooru/sagemaker/20240311_fulldan_sagemaker_streamlined/101.todo.parquet']"
      ]
     },
     "execution_count": 2,
     "metadata": {},
     "output_type": "execute_result"
    }
   ],
   "source": [
    "files = ub.traverses(\"s3://unidataset-danbooru/sagemaker/20240311_fulldan_sagemaker_streamlined/\", include_extensions=[\".todo.parquet\"])\n",
    "files[:5]"
   ]
  }
 ],
 "metadata": {
  "kernelspec": {
   "display_name": "base",
   "language": "python",
   "name": "python3"
  },
  "language_info": {
   "codemirror_mode": {
    "name": "ipython",
    "version": 3
   },
   "file_extension": ".py",
   "mimetype": "text/x-python",
   "name": "python",
   "nbconvert_exporter": "python",
   "pygments_lexer": "ipython3",
   "version": "3.10.13"
  }
 },
 "nbformat": 4,
 "nbformat_minor": 2
}
