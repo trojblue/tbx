{
 "cells": [
  {
   "cell_type": "code",
   "execution_count": 1,
   "metadata": {},
   "outputs": [],
   "source": [
    "import unibox as ub\n",
    "from s5cmdpy import S5CmdRunner\n",
    "import os\n",
    "runner = S5CmdRunner()\n",
    "\n",
    "\n",
    "def chunk_list(lst, n):\n",
    "    for i in range(0, len(lst), n):\n",
    "        yield lst[i:i + n]\n",
    "\n",
    "def get_chunked_list(lst, total_jobs):\n",
    "    chunks = list(chunk_list(lst, len(lst) // total_jobs))\n",
    "    return chunks"
   ]
  },
  {
   "cell_type": "markdown",
   "metadata": {},
   "source": [
    "test: 大量文件的resize:\n",
    "- 旧版uni_resizer在有大量todo文件的时候会hang up"
   ]
  },
  {
   "cell_type": "code",
   "execution_count": 2,
   "metadata": {},
   "outputs": [],
   "source": [
    "TARGET_NUM = 1  # Set to the specific subset number to process\n",
    "LOCAL_DEST = f\"/data/subset_10m_part_{TARGET_NUM}\"  # Download location\n",
    "S3_DEST = \"s3://dataset-pixiv/resized_1572864/\".rstrip(\"/\")\n",
    "\n",
    "# Download the first chunk: around 170G\n",
    "chunk_local_dest = f\"{LOCAL_DEST}\""
   ]
  },
  {
   "cell_type": "markdown",
   "metadata": {},
   "source": [
    "download benchmark images:"
   ]
  },
  {
   "cell_type": "code",
   "execution_count": 4,
   "metadata": {},
   "outputs": [
    {
     "name": "stderr",
     "output_type": "stream",
     "text": [
      "2024-05-08 16:48:52,974 [INFO] UniLogger: UniLoader.loads: .parquet LOADED from \"/tmp/tmpb1l3x76y/subset_10m_part_1.parquet\" in 6.94s\n"
     ]
    },
    {
     "name": "stdout",
     "output_type": "stream",
     "text": [
      "{'metadata': {'len': 92903, 'item_type': 'str'}, 'preview': ['s3://dataset-pixiv/artworks/66180793/66180793_p0.jpg', 's3://dataset-pixiv/artworks/66180800/66180800_p0.jpg', 's3://dataset-pixiv/artworks/66180820/66180820_p0.png']}\n"
     ]
    },
    {
     "data": {
      "application/vnd.jupyter.widget-view+json": {
       "model_id": "9c8bae7c467f4b56a21873c99b65adb2",
       "version_major": 2,
       "version_minor": 0
      },
      "text/plain": [
       "[interval=5] running s5cmd:   0%|          | 0/92903 [00:00<?, ?it/s]"
      ]
     },
     "metadata": {},
     "output_type": "display_data"
    }
   ],
   "source": [
    "# # Load the parquet data and split into chunks of S3 URIs\n",
    "# df = ub.loads(f\"s3://dataset-pixiv/subsets/full_pixiv_better_10m_v3/subset_10m_part_{TARGET_NUM}.parquet\")\n",
    "# uris = df[\"s3_uri\"].tolist()\n",
    "# total_chunks = 10\n",
    "# uri_chunks = list(chunk_list(uris, len(uris) // total_chunks))\n",
    "# test_uris = uri_chunks[0]\n",
    "\n",
    "\n",
    "# print(ub.peeks(test_uris))\n",
    "# runner.download_from_s3_list(test_uris, chunk_local_dest)"
   ]
  },
  {
   "cell_type": "markdown",
   "metadata": {},
   "source": [
    "test resize:"
   ]
  },
  {
   "cell_type": "code",
   "execution_count": 4,
   "metadata": {},
   "outputs": [
    {
     "name": "stderr",
     "output_type": "stream",
     "text": [
      "2024-05-08 17:21:15,414 [INFO] UniLogger: UniResizer.get_resize_jobs: Getting image paths...\n",
      "2024-05-08 17:21:16,287 [INFO] UniLogger: UniResizer.get_resize_jobs: Checking existing files...\n",
      "2024-05-08 17:21:18,496 [INFO] UniLogger: UniResizer.execute_resize_jobs: Resizing 75205 images from [/data/subset_10m_part_1] to [/data/subset_10m_part_1_resized]; chunk size: 10000 | report interval: 5s\n"
     ]
    },
    {
     "name": "stdout",
     "output_type": "stream",
     "text": [
      "Resizing 75205 images\n"
     ]
    },
    {
     "data": {
      "application/vnd.jupyter.widget-view+json": {
       "model_id": "d0303dc927644cafa79f2191ffbe84ca",
       "version_major": 2,
       "version_minor": 0
      },
      "text/plain": [
       "[interval=5] resizing [/data/subset_10m_part_1]:   0%|          | 0/75205 [00:00<?, ?it/s]"
      ]
     },
     "metadata": {},
     "output_type": "display_data"
    }
   ],
   "source": [
    "RESIZE_DEST = f\"{LOCAL_DEST}_resized\"\n",
    "\n",
    "# do the resize on the whole thing: (which would likely hang)\n",
    "resizer = ub.UniResizer(\n",
    "    root_dir=chunk_local_dest,\n",
    "    dst_dir=RESIZE_DEST,\n",
    "    target_pixels=int(1024 * 1024 * 1.5),\n",
    ")\n",
    "\n",
    "# Resize the images\n",
    "images_to_resize = resizer.get_resize_jobs()\n",
    "resizer.execute_resize_jobs(images_to_resize)"
   ]
  }
 ],
 "metadata": {
  "kernelspec": {
   "display_name": "base",
   "language": "python",
   "name": "python3"
  },
  "language_info": {
   "codemirror_mode": {
    "name": "ipython",
    "version": 3
   },
   "file_extension": ".py",
   "mimetype": "text/x-python",
   "name": "python",
   "nbconvert_exporter": "python",
   "pygments_lexer": "ipython3",
   "version": "3.10.13"
  }
 },
 "nbformat": 4,
 "nbformat_minor": 2
}
