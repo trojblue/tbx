{
 "cells": [
  {
   "cell_type": "code",
   "execution_count": 4,
   "metadata": {},
   "outputs": [
    {
     "name": "stdout",
     "output_type": "stream",
     "text": [
      "Generating random DataFrame in memory...\n",
      "Direct upload took 4.62 seconds.\n",
      "Direct upload (no disk) time: 4.62 seconds\n"
     ]
    }
   ],
   "source": [
    "import boto3\n",
    "import pandas as pd\n",
    "import numpy as np\n",
    "import io\n",
    "import timeit\n",
    "\n",
    "# Initialize S3 client\n",
    "s3_client = boto3.client('s3')\n",
    "bucket_name = 'dataset-ingested'\n",
    "s3_key_direct = \"temp/direct_no_disk.parquet\"\n",
    "\n",
    "# Generate a DataFrame in memory\n",
    "def generate_random_dataframe(rows=1_500_000, str_len=40):\n",
    "    print(\"Generating random DataFrame in memory...\")\n",
    "    data = {\n",
    "        \"random_string\": [\n",
    "            ''.join(np.random.choice(list('abcdefghijklmnopqrstuvwxyzABCDEFGHIJKLMNOPQRSTUVWXYZ0123456789'), str_len))\n",
    "            for _ in range(rows)\n",
    "        ]\n",
    "    }\n",
    "    return pd.DataFrame(data)\n",
    "\n",
    "# Upload DataFrame to S3 directly\n",
    "def upload_df_to_s3(df, s3_bucket, s3_key):\n",
    "    buffer = io.BytesIO()  # Create an in-memory buffer\n",
    "    df.to_parquet(buffer, engine=\"pyarrow\")  # Write the DataFrame to the buffer as Parquet\n",
    "    buffer.seek(0)  # Reset buffer position to the beginning\n",
    "    s3_client.put_object(Bucket=s3_bucket, Key=s3_key, Body=buffer)  # Upload to S3\n",
    "    print(f\"Uploaded DataFrame directly to S3 as {s3_key}\")\n",
    "\n",
    "# Benchmark the direct upload\n",
    "def benchmark_upload(df, s3_bucket, s3_key):\n",
    "    def upload():\n",
    "        buffer = io.BytesIO()\n",
    "        df.to_parquet(buffer, engine=\"pyarrow\")\n",
    "        buffer.seek(0)\n",
    "        s3_client.put_object(Bucket=s3_bucket, Key=s3_key, Body=buffer)\n",
    "    \n",
    "    # Time the upload process using timeit\n",
    "    elapsed_time = timeit.timeit(upload, number=1)\n",
    "    print(f\"Direct upload took {elapsed_time:.2f} seconds.\")\n",
    "    return elapsed_time\n",
    "\n",
    "# Generate the DataFrame\n",
    "df = generate_random_dataframe()\n",
    "\n",
    "# Time the direct upload\n",
    "time_direct = benchmark_upload(df, bucket_name, s3_key_direct)\n",
    "\n",
    "# Print Results\n",
    "print(f\"Direct upload (no disk) time: {time_direct:.2f} seconds\")"
   ]
  }
 ],
 "metadata": {
  "kernelspec": {
   "display_name": "base",
   "language": "python",
   "name": "python3"
  },
  "language_info": {
   "codemirror_mode": {
    "name": "ipython",
    "version": 3
   },
   "file_extension": ".py",
   "mimetype": "text/x-python",
   "name": "python",
   "nbconvert_exporter": "python",
   "pygments_lexer": "ipython3",
   "version": "3.10.13"
  }
 },
 "nbformat": 4,
 "nbformat_minor": 2
}
