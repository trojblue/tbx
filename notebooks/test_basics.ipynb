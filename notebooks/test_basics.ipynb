{
 "cells": [
  {
   "cell_type": "code",
   "execution_count": 1,
   "metadata": {},
   "outputs": [],
   "source": [
    "import unibox as ub"
   ]
  },
  {
   "cell_type": "code",
   "execution_count": 5,
   "metadata": {},
   "outputs": [],
   "source": [
    "json_dict = ub.loads(\"../tests/test_files/sample.json\")\n",
    "ub.saves(json_dict, \"local.json\")"
   ]
  },
  {
   "cell_type": "code",
   "execution_count": null,
   "metadata": {},
   "outputs": [],
   "source": [
    "img = ub.loads(\"../tests/test_files/sample.jpg\")\n",
    "img"
   ]
  },
  {
   "cell_type": "code",
   "execution_count": 5,
   "metadata": {},
   "outputs": [],
   "source": [
    "ub.saves(img, \"local.jpg\")"
   ]
  },
  {
   "cell_type": "markdown",
   "metadata": {},
   "source": [
    "huggingface test:"
   ]
  },
  {
   "cell_type": "code",
   "execution_count": 1,
   "metadata": {},
   "outputs": [],
   "source": [
    "import unibox as ub\n",
    "hf_df = ub.loads(\"hf://incantor/aesthetic_eagle_5category_iter99\")"
   ]
  },
  {
   "cell_type": "code",
   "execution_count": 2,
   "metadata": {},
   "outputs": [],
   "source": [
    "test_df = hf_df.to_pandas().head()"
   ]
  },
  {
   "cell_type": "code",
   "execution_count": 4,
   "metadata": {},
   "outputs": [
    {
     "data": {
      "text/html": [
       "<div>\n",
       "<style scoped>\n",
       "    .dataframe tbody tr th:only-of-type {\n",
       "        vertical-align: middle;\n",
       "    }\n",
       "\n",
       "    .dataframe tbody tr th {\n",
       "        vertical-align: top;\n",
       "    }\n",
       "\n",
       "    .dataframe thead th {\n",
       "        text-align: right;\n",
       "    }\n",
       "</style>\n",
       "<table border=\"1\" class=\"dataframe\">\n",
       "  <thead>\n",
       "    <tr style=\"text-align: right;\">\n",
       "      <th></th>\n",
       "      <th>filename</th>\n",
       "      <th>size</th>\n",
       "      <th>tags</th>\n",
       "      <th>folders</th>\n",
       "      <th>isDeleted</th>\n",
       "      <th>url</th>\n",
       "      <th>annotation</th>\n",
       "      <th>star</th>\n",
       "      <th>width</th>\n",
       "      <th>height</th>\n",
       "      <th>palette_color</th>\n",
       "      <th>palette_ratio</th>\n",
       "      <th>animated</th>\n",
       "      <th>resolutionWidth</th>\n",
       "      <th>resolutionHeight</th>\n",
       "      <th>duration</th>\n",
       "      <th>s3_uri</th>\n",
       "      <th>score_rating</th>\n",
       "      <th>__index_level_0__</th>\n",
       "    </tr>\n",
       "  </thead>\n",
       "  <tbody>\n",
       "    <tr>\n",
       "      <th>0</th>\n",
       "      <td>1499364669504786436_1_resized.webp</td>\n",
       "      <td>321060</td>\n",
       "      <td>[]</td>\n",
       "      <td>[LYPYMJJ3VYBIN]</td>\n",
       "      <td>False</td>\n",
       "      <td></td>\n",
       "      <td></td>\n",
       "      <td>2.0</td>\n",
       "      <td>1024</td>\n",
       "      <td>1462</td>\n",
       "      <td>#efded7</td>\n",
       "      <td>69</td>\n",
       "      <td>None</td>\n",
       "      <td>NaN</td>\n",
       "      <td>NaN</td>\n",
       "      <td>NaN</td>\n",
       "      <td>s3://dataset-ingested/resized_1572864/14993646...</td>\n",
       "      <td>1</td>\n",
       "      <td>0</td>\n",
       "    </tr>\n",
       "    <tr>\n",
       "      <th>1</th>\n",
       "      <td>image_4419749_resized.webp</td>\n",
       "      <td>133108</td>\n",
       "      <td>[]</td>\n",
       "      <td>[LYPYMJJ3VYBIN]</td>\n",
       "      <td>False</td>\n",
       "      <td></td>\n",
       "      <td></td>\n",
       "      <td>3.0</td>\n",
       "      <td>960</td>\n",
       "      <td>1358</td>\n",
       "      <td>#fbfaf9</td>\n",
       "      <td>52</td>\n",
       "      <td>None</td>\n",
       "      <td>NaN</td>\n",
       "      <td>NaN</td>\n",
       "      <td>NaN</td>\n",
       "      <td>s3://unidataset-danbooru/resized_1310720/image...</td>\n",
       "      <td>2</td>\n",
       "      <td>1</td>\n",
       "    </tr>\n",
       "    <tr>\n",
       "      <th>2</th>\n",
       "      <td>image_4418472_resized.webp</td>\n",
       "      <td>200260</td>\n",
       "      <td>[]</td>\n",
       "      <td>[LYPYMJJ3VYBIN]</td>\n",
       "      <td>False</td>\n",
       "      <td></td>\n",
       "      <td></td>\n",
       "      <td>3.0</td>\n",
       "      <td>1056</td>\n",
       "      <td>1195</td>\n",
       "      <td>#faf8f8</td>\n",
       "      <td>70</td>\n",
       "      <td>None</td>\n",
       "      <td>NaN</td>\n",
       "      <td>NaN</td>\n",
       "      <td>NaN</td>\n",
       "      <td>s3://unidataset-danbooru/resized_1310720/image...</td>\n",
       "      <td>2</td>\n",
       "      <td>2</td>\n",
       "    </tr>\n",
       "    <tr>\n",
       "      <th>3</th>\n",
       "      <td>image_4420914_resized.webp</td>\n",
       "      <td>222084</td>\n",
       "      <td>[]</td>\n",
       "      <td>[LYPYMJJ3VYBIN]</td>\n",
       "      <td>False</td>\n",
       "      <td></td>\n",
       "      <td></td>\n",
       "      <td>3.0</td>\n",
       "      <td>768</td>\n",
       "      <td>1596</td>\n",
       "      <td>#e6e6e5</td>\n",
       "      <td>70</td>\n",
       "      <td>None</td>\n",
       "      <td>NaN</td>\n",
       "      <td>NaN</td>\n",
       "      <td>NaN</td>\n",
       "      <td>s3://unidataset-danbooru/resized_1310720/image...</td>\n",
       "      <td>2</td>\n",
       "      <td>3</td>\n",
       "    </tr>\n",
       "    <tr>\n",
       "      <th>4</th>\n",
       "      <td>image_4420811_resized.webp</td>\n",
       "      <td>355796</td>\n",
       "      <td>[]</td>\n",
       "      <td>[LYPYMJJ3VYBIN]</td>\n",
       "      <td>False</td>\n",
       "      <td></td>\n",
       "      <td></td>\n",
       "      <td>1.0</td>\n",
       "      <td>1056</td>\n",
       "      <td>1188</td>\n",
       "      <td>#e2e0e0</td>\n",
       "      <td>37</td>\n",
       "      <td>None</td>\n",
       "      <td>NaN</td>\n",
       "      <td>NaN</td>\n",
       "      <td>NaN</td>\n",
       "      <td>s3://unidataset-danbooru/resized_1310720/image...</td>\n",
       "      <td>0</td>\n",
       "      <td>4</td>\n",
       "    </tr>\n",
       "  </tbody>\n",
       "</table>\n",
       "</div>"
      ],
      "text/plain": [
       "                             filename    size tags          folders  \\\n",
       "0  1499364669504786436_1_resized.webp  321060   []  [LYPYMJJ3VYBIN]   \n",
       "1          image_4419749_resized.webp  133108   []  [LYPYMJJ3VYBIN]   \n",
       "2          image_4418472_resized.webp  200260   []  [LYPYMJJ3VYBIN]   \n",
       "3          image_4420914_resized.webp  222084   []  [LYPYMJJ3VYBIN]   \n",
       "4          image_4420811_resized.webp  355796   []  [LYPYMJJ3VYBIN]   \n",
       "\n",
       "   isDeleted url annotation  star  width  height palette_color  palette_ratio  \\\n",
       "0      False                  2.0   1024    1462       #efded7             69   \n",
       "1      False                  3.0    960    1358       #fbfaf9             52   \n",
       "2      False                  3.0   1056    1195       #faf8f8             70   \n",
       "3      False                  3.0    768    1596       #e6e6e5             70   \n",
       "4      False                  1.0   1056    1188       #e2e0e0             37   \n",
       "\n",
       "  animated  resolutionWidth  resolutionHeight  duration  \\\n",
       "0     None              NaN               NaN       NaN   \n",
       "1     None              NaN               NaN       NaN   \n",
       "2     None              NaN               NaN       NaN   \n",
       "3     None              NaN               NaN       NaN   \n",
       "4     None              NaN               NaN       NaN   \n",
       "\n",
       "                                              s3_uri  score_rating  \\\n",
       "0  s3://dataset-ingested/resized_1572864/14993646...             1   \n",
       "1  s3://unidataset-danbooru/resized_1310720/image...             2   \n",
       "2  s3://unidataset-danbooru/resized_1310720/image...             2   \n",
       "3  s3://unidataset-danbooru/resized_1310720/image...             2   \n",
       "4  s3://unidataset-danbooru/resized_1310720/image...             0   \n",
       "\n",
       "   __index_level_0__  \n",
       "0                  0  \n",
       "1                  1  \n",
       "2                  2  \n",
       "3                  3  \n",
       "4                  4  "
      ]
     },
     "execution_count": 4,
     "metadata": {},
     "output_type": "execute_result"
    }
   ],
   "source": [
    "test_df"
   ]
  },
  {
   "cell_type": "code",
   "execution_count": 5,
   "metadata": {},
   "outputs": [
    {
     "name": "stdout",
     "output_type": "stream",
     "text": [
      "Uploading DataFrame to HF repo datatmp/tmp_df\n"
     ]
    },
    {
     "data": {
      "application/vnd.jupyter.widget-view+json": {
       "model_id": "640d3e151d45434c806d45c92d4b4394",
       "version_major": 2,
       "version_minor": 0
      },
      "text/plain": [
       "Uploading the dataset shards:   0%|          | 0/1 [00:00<?, ?it/s]"
      ]
     },
     "metadata": {},
     "output_type": "display_data"
    },
    {
     "data": {
      "application/vnd.jupyter.widget-view+json": {
       "model_id": "30c707cb36be4e3b83929400ee4f4513",
       "version_major": 2,
       "version_minor": 0
      },
      "text/plain": [
       "Creating parquet from Arrow format:   0%|          | 0/1 [00:00<?, ?ba/s]"
      ]
     },
     "metadata": {},
     "output_type": "display_data"
    },
    {
     "name": "stdout",
     "output_type": "stream",
     "text": [
      "https://huggingface.co/datasets/datatmp/tmp_df/commit/d242bb593b677c05589cfee6e366e1d563b9b680\n"
     ]
    }
   ],
   "source": [
    "ub.saves(test_df, \"hf://datatmp/tmp_df\")"
   ]
  }
 ],
 "metadata": {
  "kernelspec": {
   "display_name": "base",
   "language": "python",
   "name": "python3"
  },
  "language_info": {
   "codemirror_mode": {
    "name": "ipython",
    "version": 3
   },
   "file_extension": ".py",
   "mimetype": "text/x-python",
   "name": "python",
   "nbconvert_exporter": "python",
   "pygments_lexer": "ipython3",
   "version": "3.10.13"
  }
 },
 "nbformat": 4,
 "nbformat_minor": 2
}
