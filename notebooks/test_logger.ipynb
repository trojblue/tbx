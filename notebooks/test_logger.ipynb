{
 "cells": [
  {
   "cell_type": "code",
   "execution_count": 8,
   "metadata": {},
   "outputs": [
    {
     "name": "stdout",
     "output_type": "stream",
     "text": [
      "some normal print\n",
      "\u001b[32m2025-01-03 21:19:29 [INFO] some_class.some_func: Hello from some_func\u001b[0m\n",
      "\u001b[32m2025-01-03 21:19:29 [INFO] some_class.some_func: ✅ Hello from some_func\u001b[0m\n",
      "\u001b[33m2025-01-03 21:19:29 [WARNING] some_class.some_func: ⚠️ Hello from some_func /ipykernel_651502/3891427853.py:17\u001b[0m\n",
      "\u001b[31m2025-01-03 21:19:29 [ERROR] some_class.some_func: ❌ Hello from some_func /ipykernel_651502/3891427853.py:19\u001b[0m\n",
      "\u001b[1;31m2025-01-03 21:19:29 [CRITICAL] some_class.some_func: 🔥 Hello from some_func /ipykernel_651502/3891427853.py:21\u001b[0m\n"
     ]
    }
   ],
   "source": [
    "from unibox.utils.logger import UniLogger\n",
    "\n",
    "l1 = UniLogger(use_color=True)\n",
    "\n",
    "\n",
    "class some_class():\n",
    "    def __init__(self):\n",
    "        pass\n",
    "\n",
    "    def some_func(self):\n",
    "        print(\"some normal print\")\n",
    "\n",
    "        l1.info(\"Hello from some_func\")\n",
    "\n",
    "        l1.notice(\"Hello from some_func\")\n",
    "\n",
    "        l1.warning(\"Hello from some_func\")\n",
    "        \n",
    "        l1.error(\"Hello from some_func\")\n",
    "\n",
    "        l1.critical(\"Hello from some_func\")\n",
    "\n",
    "cls = some_class()\n",
    "cls.some_func()"
   ]
  }
 ],
 "metadata": {
  "kernelspec": {
   "display_name": "base",
   "language": "python",
   "name": "python3"
  },
  "language_info": {
   "codemirror_mode": {
    "name": "ipython",
    "version": 3
   },
   "file_extension": ".py",
   "mimetype": "text/x-python",
   "name": "python",
   "nbconvert_exporter": "python",
   "pygments_lexer": "ipython3",
   "version": "3.10.13"
  }
 },
 "nbformat": 4,
 "nbformat_minor": 2
}
